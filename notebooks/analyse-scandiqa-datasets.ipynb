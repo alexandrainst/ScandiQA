{
 "cells": [
  {
   "cell_type": "code",
   "execution_count": null,
   "id": "075dd561-27c7-4a75-8a3f-408f84cd2b2d",
   "metadata": {},
   "outputs": [],
   "source": [
    "from datasets import load_dataset\n",
    "import re\n",
    "import numpy as np\n",
    "import matplotlib.pyplot as plt\n",
    "plt.style.use('seaborn-whitegrid')"
   ]
  },
  {
   "cell_type": "markdown",
   "id": "70bf8705-e783-4911-8fe6-911cf823fe50",
   "metadata": {
    "tags": []
   },
   "source": [
    "## Load datasets"
   ]
  },
  {
   "cell_type": "code",
   "execution_count": null,
   "id": "46feff42-8a50-4abc-9af8-31ccf1d876b4",
   "metadata": {},
   "outputs": [],
   "source": [
    "da = load_dataset('alexandrainst/scandiqa', 'da', use_auth_token=True, download_mode=\"force_redownload\")\n",
    "da"
   ]
  },
  {
   "cell_type": "code",
   "execution_count": null,
   "id": "2deb4c44-7b28-4486-95f7-d3275001da14",
   "metadata": {},
   "outputs": [],
   "source": [
    "sv = load_dataset('alexandrainst/scandiqa', 'sv', use_auth_token=True, download_mode=\"force_redownload\")\n",
    "sv"
   ]
  },
  {
   "cell_type": "code",
   "execution_count": null,
   "id": "ec77ab5d-f835-4624-a02c-e7e67e5f1fde",
   "metadata": {},
   "outputs": [],
   "source": [
    "no = load_dataset('alexandrainst/scandiqa', 'no', use_auth_token=True, download_mode=\"force_redownload\")\n",
    "no"
   ]
  },
  {
   "cell_type": "markdown",
   "id": "ec2e8626-ee0f-43c0-9466-9411b7d574a2",
   "metadata": {},
   "source": [
    "## Analyse data"
   ]
  },
  {
   "cell_type": "code",
   "execution_count": null,
   "id": "16dd9afc-0aa2-422c-b3f5-a62b20adea28",
   "metadata": {},
   "outputs": [],
   "source": [
    "def analyse(language: str):\n",
    "    print(f'\\n=== Analysing training split of {language} ===')\n",
    "    df = globals()[language]['train'].to_pandas()\n",
    "    \n",
    "    # Show a sample\n",
    "    display(df.head(3))\n",
    "    \n",
    "    # Count samples\n",
    "    num_samples = len(df)\n",
    "    print(f'There are {num_samples:,} samples.')\n",
    "    \n",
    "    # Get has-answer ratio\n",
    "    frac_has_answer = df.answer.map(lambda x: x != '').value_counts(normalize=True).iloc[0]\n",
    "    print(f'{100 * frac_has_answer:.2f}% of the samples have an answer.')\n",
    "    \n",
    "    # Get answer-is-number ratio\n",
    "    num_is_number = len(df.loc[df.answer.map(lambda x: re.match('[0-9]+', x) is not None)])\n",
    "    print(f'{100 * num_is_number / num_samples:.2f}% of the answers are numbers.')\n",
    "    \n",
    "    # Get average/median translated context length\n",
    "    avg_translated_context_length = df.context.str.len().mean()\n",
    "    median_translated_context_length = df.context.str.len().median()\n",
    "    print(f'The average translated context has {avg_translated_context_length:,.0f} characters.')\n",
    "    print(f'The median translated context has {median_translated_context_length:,.0f} characters.')\n",
    "    \n",
    "    # Get average original context length\n",
    "    avg_original_context_length = df.context_en.str.len().mean()\n",
    "    median_original_context_length = df.context_en.str.len().median()\n",
    "    print(f'The average original context has {avg_original_context_length:,.0f} characters.')\n",
    "    print(f'The median original context has {median_original_context_length:,.0f} characters.')\n",
    "    \n",
    "    # Get average answer length\n",
    "    avg_answer_length = df.answer.str.len().mean()\n",
    "    median_answer_length = df.answer.str.len().median()\n",
    "    print(f'The mean answer has {avg_answer_length:,.0f} characters.')\n",
    "    print(f'The median answer has {median_answer_length:,.0f} characters.')\n",
    "    \n",
    "    # Plots\n",
    "    plt.hist(df.context.str.len().tolist(), alpha=0.7, density=True, log=True)\n",
    "    plt.title(f'Translated context lengths for {language}', fontsize=16)\n",
    "    plt.show()\n",
    "    \n",
    "    return df"
   ]
  },
  {
   "cell_type": "code",
   "execution_count": null,
   "id": "10c4543e-5695-4b60-b40f-bafb25f70b3a",
   "metadata": {},
   "outputs": [],
   "source": [
    "for language in ['da', 'sv', 'no']:\n",
    "    analyse(language)"
   ]
  }
 ],
 "metadata": {
  "kernelspec": {
   "display_name": "Python 3 (ipykernel)",
   "language": "python",
   "name": "python3"
  },
  "language_info": {
   "codemirror_mode": {
    "name": "ipython",
    "version": 3
   },
   "file_extension": ".py",
   "mimetype": "text/x-python",
   "name": "python",
   "nbconvert_exporter": "python",
   "pygments_lexer": "ipython3",
   "version": "3.8.9"
  }
 },
 "nbformat": 4,
 "nbformat_minor": 5
}

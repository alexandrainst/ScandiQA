{
 "cells": [
  {
   "cell_type": "code",
   "execution_count": null,
   "id": "7b3cc287-4d27-4d03-bba0-86166ec91a35",
   "metadata": {},
   "outputs": [],
   "source": [
    "%cd .."
   ]
  },
  {
   "cell_type": "code",
   "execution_count": null,
   "id": "ad5139c9-c2bd-42a0-9e4d-2ee5f08d5fb5",
   "metadata": {},
   "outputs": [],
   "source": [
    "from transformers import AutoModelForQuestionAnswering, AutoTokenizer\n",
    "from pathlib import Path"
   ]
  },
  {
   "cell_type": "code",
   "execution_count": null,
   "id": "abcc6646-ce7b-4371-939e-05649bbbd236",
   "metadata": {},
   "outputs": [],
   "source": [
    "def push_to_hub(model_dir: str, hf_model_id: str, private: bool = False) -> None:\n",
    "    \"\"\"Push a model to the Hugging Face Hub.\n",
    "    \n",
    "    Args:\n",
    "        model_dir (str):\n",
    "            The directory in which the model is stored. Must be\n",
    "            a subdirectory of the `models` directory.\n",
    "        hf_model_id (str):\n",
    "            The desired Hugging Face model ID to assign the model.\n",
    "        private (bool, optional):\n",
    "            Whether the model should be private. Defaults to False.\n",
    "    \"\"\"\n",
    "    model_path = Path(\"models\") / model_dir\n",
    "    tokenizer = AutoTokenizer.from_pretrained(model_path)\n",
    "    tokenizer.push_to_hub(hf_model_id, private=private, use_auth_token=private)\n",
    "    model = AutoModelForQuestionAnswering.from_pretrained(model_path)\n",
    "    model.push_to_hub(hf_model_id, private=private, use_auth_token=private)"
   ]
  },
  {
   "cell_type": "code",
   "execution_count": null,
   "id": "bae09fcd-f86d-4538-920e-c173c4857f3a",
   "metadata": {},
   "outputs": [],
   "source": [
    "params = [\n",
    "    #dict(model_dir='electra-da', hf_model_id='saattrupdan/electra-small-qa-da'),\n",
    "    #dict(model_dir='electra-all', hf_model_id='saattrupdan/electra-small-qa-scandi'),\n",
    "    #dict(model_dir='xlmr-large-da', hf_model_id='saattrupdan/xlm-roberta-large-da'),\n",
    "    #dict(model_dir='xlmr-large-all', hf_model_id='saattrupdan/xlm-roberta-large-scandi'),\n",
    "    #dict(model_dir='nbailab-bert-base-da', hf_model_id='saattrupdan/nbailab-bert-base-qa-da'),\n",
    "    #dict(model_dir='nbailab-bert-base-all', hf_model_id='saattrupdan/nbailab-bert-base-qa-scandi'),\n",
    "    #dict(model_dir='xlmr-base-da', hf_model_id='saattrupdan/xlm-roberta-base-qa-da'),\n",
    "    #dict(model_dir='xlmr-base-all', hf_model_id='saattrupdan/xlm-roberta-base-qa-scandi'),\n",
    "    dict(model_dir='xlmr-large-qa-sv-da', hf_model_id='saattrupdan/xlm-roberta-large-qa-sv-da'),\n",
    "    #dict(model_dir='xlmr-large-qa-sv-all', hf_model_id='saattrupdan/xlm-roberta-large-qa-sv-scandi'),\n",
    "]\n",
    "    \n",
    "for param in params:\n",
    "    push_to_hub(private=True, **param)"
   ]
  }
 ],
 "metadata": {
  "kernelspec": {
   "display_name": "Python 3 (ipykernel)",
   "language": "python",
   "name": "python3"
  },
  "language_info": {
   "codemirror_mode": {
    "name": "ipython",
    "version": 3
   },
   "file_extension": ".py",
   "mimetype": "text/x-python",
   "name": "python",
   "nbconvert_exporter": "python",
   "pygments_lexer": "ipython3",
   "version": "3.10.6"
  }
 },
 "nbformat": 4,
 "nbformat_minor": 5
}

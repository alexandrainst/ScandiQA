{
 "cells": [
  {
   "cell_type": "code",
   "execution_count": null,
   "id": "1edfa587-11b4-4cdf-8846-6f7aed2ffa1d",
   "metadata": {},
   "outputs": [],
   "source": [
    "%cd .."
   ]
  },
  {
   "cell_type": "code",
   "execution_count": null,
   "id": "d4e8f2fb-bcbf-4995-af48-f49b78889818",
   "metadata": {},
   "outputs": [],
   "source": [
    "from pathlib import Path\n",
    "import pandas as pd\n",
    "import json\n",
    "import luga\n",
    "import re"
   ]
  },
  {
   "cell_type": "code",
   "execution_count": null,
   "id": "7e479836-d576-422a-aa15-bdad4eca36de",
   "metadata": {},
   "outputs": [],
   "source": [
    "path = Path('data') / 'processed' / 'translation_cache.jsonl'"
   ]
  },
  {
   "cell_type": "code",
   "execution_count": null,
   "id": "eaca8399-a32a-4471-bfef-a4cc151a4940",
   "metadata": {},
   "outputs": [],
   "source": [
    "with path.open() as f:\n",
    "    records =  [json.loads(line) for line in f]\n",
    "df = pd.DataFrame.from_records(records)\n",
    "df.head()"
   ]
  },
  {
   "cell_type": "code",
   "execution_count": null,
   "id": "3b3771ec-cb62-41b4-aa96-22c0c675c880",
   "metadata": {},
   "outputs": [],
   "source": [
    "df.target_lang.value_counts()"
   ]
  },
  {
   "cell_type": "markdown",
   "id": "b40f266a-b16a-4c4c-8396-da6c663680b2",
   "metadata": {
    "tags": []
   },
   "source": [
    "## Deduplication"
   ]
  },
  {
   "cell_type": "code",
   "execution_count": null,
   "id": "60e0ea02-ba8a-4e63-873a-9685ca47ebbe",
   "metadata": {},
   "outputs": [],
   "source": [
    "num_samples = len(df)\n",
    "df_deduplicated = df.drop_duplicates(subset=['context_en', 'target_lang'])\n",
    "print(f\"Removed {num_samples - len(df_deduplicated):,} samples.\")"
   ]
  },
  {
   "cell_type": "code",
   "execution_count": null,
   "id": "ee3d77f8-733b-4461-ae5f-20a48268d0e8",
   "metadata": {},
   "outputs": [],
   "source": [
    "df_deduplicated.target_lang.value_counts()"
   ]
  },
  {
   "cell_type": "markdown",
   "id": "3a1c115b-ff31-4083-b9be-9da605dda120",
   "metadata": {
    "tags": []
   },
   "source": [
    "## Check languages"
   ]
  },
  {
   "cell_type": "code",
   "execution_count": null,
   "id": "0d5b6007-621a-4ae4-9003-3984910c72c2",
   "metadata": {},
   "outputs": [],
   "source": [
    "df_with_languages = df_deduplicated.copy()\n",
    "def process_context(context: str) -> str:\n",
    "    lines = [\n",
    "        re.sub(r\"[^A-ZÆØÅa-zæøå ]\", \"\", line) for line in context.split('\\n')\n",
    "        if re.search(\"[A-ZÆØÅa-zæøå ]{5,}\", line)\n",
    "    ]\n",
    "    return re.sub(' +', ' ', ' '.join(lines)[:1000])\n",
    "df_with_languages[\"predicted_language\"] = luga.languages(df_with_languages.context.map(process_context).tolist(), only_language=True, threshold=0.)\n",
    "df_with_languages.head()"
   ]
  },
  {
   "cell_type": "code",
   "execution_count": null,
   "id": "a835cd29-9f89-4072-854b-ae5d6533cc3d",
   "metadata": {},
   "outputs": [],
   "source": [
    "df_wrong_languages = df_with_languages.query('target_lang != predicted_language')\n",
    "df_wrong_languages.target_lang.value_counts()"
   ]
  },
  {
   "cell_type": "code",
   "execution_count": null,
   "id": "40f303e1-7a3c-4aa8-913f-873537ee8a66",
   "metadata": {},
   "outputs": [],
   "source": [
    "df_wrong_languages.target_lang.value_counts().sum()"
   ]
  },
  {
   "cell_type": "code",
   "execution_count": null,
   "id": "904de43b-e752-4ee9-bb37-dd66461bb65f",
   "metadata": {},
   "outputs": [],
   "source": [
    "df_wrong_languages.query('target_lang == \"da\"').predicted_language.value_counts()"
   ]
  },
  {
   "cell_type": "code",
   "execution_count": null,
   "id": "d3a4dba3-1051-43a9-97f1-e9059dcb63c9",
   "metadata": {},
   "outputs": [],
   "source": [
    "df_wrong_languages.query('target_lang == \"sv\"').predicted_language.value_counts()"
   ]
  },
  {
   "cell_type": "code",
   "execution_count": null,
   "id": "00bee358-babc-48a7-83b1-d3b3d46afe4f",
   "metadata": {},
   "outputs": [],
   "source": [
    "df_wrong_languages.query('target_lang == \"no\"').predicted_language.value_counts()"
   ]
  },
  {
   "cell_type": "code",
   "execution_count": null,
   "id": "fca041f2-28bb-4671-9ece-348e0d93474c",
   "metadata": {},
   "outputs": [],
   "source": [
    "wrong_sample = df_wrong_languages.sample(n=1)\n",
    "print(f'True language: {wrong_sample.target_lang.iloc[0]}')\n",
    "print(f'Predicted language: {wrong_sample.predicted_language.iloc[0]}', end='\\n\\n')\n",
    "print(wrong_sample.context.map(process_context).iloc[0])"
   ]
  }
 ],
 "metadata": {
  "kernelspec": {
   "display_name": "Python 3 (ipykernel)",
   "language": "python",
   "name": "python3"
  },
  "language_info": {
   "codemirror_mode": {
    "name": "ipython",
    "version": 3
   },
   "file_extension": ".py",
   "mimetype": "text/x-python",
   "name": "python",
   "nbconvert_exporter": "python",
   "pygments_lexer": "ipython3",
   "version": "3.8.9"
  }
 },
 "nbformat": 4,
 "nbformat_minor": 5
}

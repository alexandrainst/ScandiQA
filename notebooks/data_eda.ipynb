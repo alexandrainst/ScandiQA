{
 "cells": [
  {
   "cell_type": "code",
   "execution_count": null,
   "id": "a5127b3e-f3c6-4a6a-9e34-d53c78f1125b",
   "metadata": {},
   "outputs": [],
   "source": [
    "%reload_ext autoreload\n",
    "%autoreload 2"
   ]
  },
  {
   "cell_type": "code",
   "execution_count": null,
   "id": "13af4dd6-5fb9-46d6-b5d3-69ffbe77b385",
   "metadata": {},
   "outputs": [],
   "source": [
    "from datasets import load_dataset\n",
    "import numpy as np\n",
    "import itertools as it\n",
    "import re\n",
    "from bs4 import BeautifulSoup\n",
    "from transformers import pipeline\n",
    "from sentence_transformers import SentenceTransformer\n",
    "from pprint import pprint\n",
    "import pandas as pd"
   ]
  },
  {
   "cell_type": "code",
   "execution_count": null,
   "id": "76e712f7-1654-4b8c-b7f0-270d3470dafd",
   "metadata": {},
   "outputs": [],
   "source": [
    "scandiqa_da = load_dataset('saattrupdan/scandiqa-da', split='train', use_auth_token=True)\n",
    "scandiqa_da"
   ]
  },
  {
   "cell_type": "code",
   "execution_count": null,
   "id": "608cc012-51eb-40fa-969c-3b8fdb1f5ed2",
   "metadata": {},
   "outputs": [],
   "source": [
    "scandiqa_sv = load_dataset('saattrupdan/scandiqa-sv', split='train', use_auth_token=True)\n",
    "scandiqa_sv"
   ]
  },
  {
   "cell_type": "code",
   "execution_count": null,
   "id": "dee44398-5842-4f11-8000-9472c17ee518",
   "metadata": {},
   "outputs": [],
   "source": [
    "scandiqa_no = load_dataset('saattrupdan/scandiqa-no', split='train', use_auth_token=True)\n",
    "scandiqa_no"
   ]
  }
 ],
 "metadata": {
  "kernelspec": {
   "display_name": "Python 3 (ipykernel)",
   "language": "python",
   "name": "python3"
  },
  "language_info": {
   "codemirror_mode": {
    "name": "ipython",
    "version": 3
   },
   "file_extension": ".py",
   "mimetype": "text/x-python",
   "name": "python",
   "nbconvert_exporter": "python",
   "pygments_lexer": "ipython3",
   "version": "3.8.9"
  }
 },
 "nbformat": 4,
 "nbformat_minor": 5
}

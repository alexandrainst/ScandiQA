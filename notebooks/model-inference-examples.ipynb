{
 "cells": [
  {
   "cell_type": "code",
   "execution_count": null,
   "id": "cb8ba6f8-cc36-416d-9fd4-e4924a7871ad",
   "metadata": {},
   "outputs": [],
   "source": [
    "from transformers import pipeline\n",
    "from datasets import load_dataset\n",
    "from tqdm.auto import tqdm\n",
    "import pandas as pd\n",
    "pd.set_option('display.max_rows', None)"
   ]
  },
  {
   "cell_type": "markdown",
   "id": "0e0cd044-61e5-44c9-b091-f9a75d12b165",
   "metadata": {
    "tags": []
   },
   "source": [
    "## Setup"
   ]
  },
  {
   "cell_type": "code",
   "execution_count": null,
   "id": "be1565c2-fb3d-4d37-9ec0-631bdb92508d",
   "metadata": {},
   "outputs": [],
   "source": [
    "context = \"\"\"\n",
    "Elizabeth 2. var dronning af Storbritannien fra 1952 til 2022. Hun var ældste datter af George 6. og dronning Elizabeth.\n",
    "\n",
    "Elizabeth blev som kronprinsesse i 1947 gift med løjtnant Philip Mountbatten, tidligere prins Philip af Grækenland og Danmark og efter giftermålet hertug af Edinburgh. Philip døde 9. april 2021. Parret fik fire børn, Charles, Anne, Andrew og Edward.\n",
    "\n",
    "Elizabeth var kun 25 år gammel, da hun overtog tronen efter George 6.s død den 6. februar 1952. Den formelle kroningsceremoni fandt dog først sted den 2. juni 1953.\n",
    "\n",
    "Dronningens reelle magt i det britiske politiske system var beskeden, men symbolsk har hun haft stor betydning, også i de dele af Commonwealth, som hun også var statsoverhoved for.\n",
    "\n",
    "I dagene omkring den 2. juni 2022 fejrede Storbritannien Elizabeths 70 år på tronen. Hun er den længst siddende britiske monark nogensinde og den næst længst siddende i verden. Elizabeth måtte dog fravælge deltagelse i en del arrangementer i forbindelse med platinjubilæet pga. svigtende helbred.\n",
    "\n",
    "Det britiske monarkis store popularitet hænger nøje sammen med den måde, hvorpå Elizabeth med stor pligtopfyldelse udførte sine krævende ceremonielle og repræsentative pligter. Hun stod således som bolværk mod angreb på monarkiet i nogle turbulente årtier med skandaler og skilsmisser i den britiske royale familie, og det har i højere grad været personen Elizabeth end monarkiet som sådan, der har været årsagen til dets popularitet i den britiske befolkning. I en tid, hvor de fleste andre bærende institutioner i det britiske samfund har været eller er under pres og forandring, har Elizabeth stået for en meget langvarig stabilitet og en forbindelse til en svunden tid, som bl.a. Brexitafstemningen i 2016 viste, at mange briter stadig har veneration for.\n",
    "\n",
    "Hendes holdning i forbindelse med prinsesse Dianas død og bisættelse i efteråret 1997 vakte dog stor uro i den britiske befolkning og belystes i 2006 i Stephen Frears' spillefilm The Queen, hvor hun blev portrætteret af Helen Mirren. Også Netflixserien The Crown portrætterer i fiktionsform i foreløbig fire sæsoner monarkiets og det britiske samfunds udvikling fra 1950erne og frem til foreløbig 1990erne.\n",
    "\n",
    "Dronningen ejede en af de betydeligste private kunstsamlinger i verden og rådede over store jordbesiddelser og en meget stor formue, hvoraf en del, som afdækket af de såkaldte Panama Papers, er placeret i skattely.\n",
    "\n",
    "Ved hendes død den 8. september 2022 blev hendes ældste søn, Charles, konge.\n",
    "\"\"\""
   ]
  },
  {
   "cell_type": "code",
   "execution_count": null,
   "id": "129320f0-7bd3-4b7e-a049-eaf5cbb36d18",
   "metadata": {},
   "outputs": [],
   "source": [
    "questions = [\n",
    "    \"Hvornår døde Dronning Elizabeth?\",\n",
    "    \"Hvad hedder Dronning Elizabeth's forældre?\",\n",
    "    \"Hvad hedder Dronning Elizabeth's far?\",\n",
    "    \"Hvem er nu regent efter Elizabeth?\",\n",
    "    \"Hvem er nu konge efter Elizabeth?\",\n",
    "    \"Hvor gammel var Elizabeth, da hun blev dronning?\",\n",
    "    \"Hvem spillede Elizabeth i 'The Queen'?\",\n",
    "    \"Hvad hedder Dronning Elizabeth's børn?\",\n",
    "    \"I hvilken periode foregår serien 'The Crown'?\",\n",
    "    \"Hvor blev Dronning Elizabeth begravet?\",\n",
    "    \"I hvilken by blev Dronning Elizabeth født?\",\n",
    "    \"Hvad var Dronning Elizabeth's holdning til Brexit?\",\n",
    "]"
   ]
  },
  {
   "cell_type": "markdown",
   "id": "45a9cf49-c036-49b3-8d4d-70268c782466",
   "metadata": {
    "tags": []
   },
   "source": [
    "## Inference with models"
   ]
  },
  {
   "cell_type": "code",
   "execution_count": null,
   "id": "ec962d0f-b82c-4326-9c70-77ca945e1473",
   "metadata": {},
   "outputs": [],
   "source": [
    "def print_model_answers(model_id: str) -> None:\n",
    "    qa = pipeline(task='question-answering', model=model_id, use_auth_token=True)\n",
    "    for question in questions:\n",
    "        output = qa(context=context, question=question, max_answer_len=15, handle_impossible_answer=True, top_k=3)\n",
    "        answers = [dct[\"answer\"] for dct in output]\n",
    "        print(f\"Question: {question!r}\")\n",
    "        print(\"Model's answers:\")\n",
    "        for idx, answer in enumerate(answers):\n",
    "            print(f\"\\t{1 + idx}. {answer!r}\")\n",
    "        print()"
   ]
  },
  {
   "cell_type": "code",
   "execution_count": null,
   "id": "6b5ae48a-ee16-4508-aba3-6492feaf3a9b",
   "metadata": {},
   "outputs": [],
   "source": [
    "model_ids = [\n",
    "    \"saattrupdan/xlm-roberta-base-qa-scandi\",\n",
    "    \"saattrupdan/xlm-roberta-large-qa-scandi\",\n",
    "    \"saattrupdan/xlm-roberta-large-qa-sv-scandi\",\n",
    "    \"jacobshein/danish-bert-botxo-qa-squad\",\n",
    "    \"saattrupdan/xlmr-base-texas-squad-da\",\n",
    "]"
   ]
  },
  {
   "cell_type": "code",
   "execution_count": null,
   "id": "1c4a0ead-73e3-4b66-812c-3b77516543a2",
   "metadata": {
    "jupyter": {
     "outputs_hidden": true
    },
    "tags": []
   },
   "outputs": [],
   "source": [
    "for model_id in model_ids:\n",
    "    print(f\"{' ' + model_id + ' ':=^50}\")\n",
    "    print()\n",
    "    print_model_answers(model_id=model_id)\n",
    "    print()"
   ]
  },
  {
   "cell_type": "markdown",
   "id": "cb82b6a9-596b-4023-b3d2-94bf1007282c",
   "metadata": {},
   "source": [
    "## Error analysis"
   ]
  },
  {
   "cell_type": "code",
   "execution_count": null,
   "id": "e7e1e74c-8202-44a9-8b69-0fd701827cce",
   "metadata": {},
   "outputs": [],
   "source": [
    "texas_qa = pipeline(task='question-answering', model=\"saattrupdan/xlmr-base-texas-squad-da\", use_auth_token=True)\n",
    "botxo_qa = pipeline(task='question-answering', model=\"jacobshein/danish-bert-botxo-qa-squad\", use_auth_token=True)\n",
    "scandi_qa = pipeline(task='question-answering', model=\"saattrupdan/xlm-roberta-base-qa-scandi\", use_auth_token=True)"
   ]
  },
  {
   "cell_type": "code",
   "execution_count": null,
   "id": "c1294f81-64ad-45c0-b6eb-2c05e891c7a8",
   "metadata": {},
   "outputs": [],
   "source": [
    "val_ds = load_dataset(\"alexandrainst/scandiqa\", \"da\", use_auth_token=True, split=\"val\")\n",
    "val_ds"
   ]
  },
  {
   "cell_type": "code",
   "execution_count": null,
   "id": "ca4b62c2-e6e1-4eb2-af71-9f3c95b730b3",
   "metadata": {},
   "outputs": [],
   "source": [
    "records = list()\n",
    "for example in tqdm(val_ds):\n",
    "    record = dict(\n",
    "        answer=example[\"answers\"][\"text\"][0],\n",
    "        context=example[\"context\"],\n",
    "        texas_qa=texas_qa(context=example[\"context\"], question=example[\"question\"])[\"answer\"].strip('.,()\\'\"*†'),\n",
    "        botxo_qa=botxo_qa(context=example[\"context\"], question=example[\"question\"])[\"answer\"].strip('.,()\\'\"*†'),\n",
    "        scandi_qa=scandi_qa(context=example[\"context\"], question=example[\"question\"])[\"answer\"].strip('.,()\\'\"*†'),\n",
    "    )\n",
    "    records.append(record)"
   ]
  },
  {
   "cell_type": "code",
   "execution_count": null,
   "id": "4fa3e7f0-9298-43a1-8b36-212e9185c898",
   "metadata": {},
   "outputs": [],
   "source": [
    "df = pd.DataFrame.from_records(records)\n",
    "df.head()"
   ]
  },
  {
   "cell_type": "code",
   "execution_count": null,
   "id": "5e23f5c2-baa0-4800-88d6-7806394c3a6b",
   "metadata": {},
   "outputs": [],
   "source": [
    "wrong_texas_df = df.query('answer != texas_qa and answer == scandi_qa')\n",
    "wrong_texas_df.head()"
   ]
  },
  {
   "cell_type": "code",
   "execution_count": null,
   "id": "14d6ef52-d98a-4c01-ae75-557b49b5b73b",
   "metadata": {},
   "outputs": [],
   "source": [
    "load_dataset(\"dane\")"
   ]
  },
  {
   "cell_type": "code",
   "execution_count": null,
   "id": "76ab1840-d7f5-461a-bdff-1e87b11e3ba4",
   "metadata": {},
   "outputs": [],
   "source": []
  }
 ],
 "metadata": {
  "kernelspec": {
   "display_name": "Python 3 (ipykernel)",
   "language": "python",
   "name": "python3"
  },
  "language_info": {
   "codemirror_mode": {
    "name": "ipython",
    "version": 3
   },
   "file_extension": ".py",
   "mimetype": "text/x-python",
   "name": "python",
   "nbconvert_exporter": "python",
   "pygments_lexer": "ipython3",
   "version": "3.10.6"
  }
 },
 "nbformat": 4,
 "nbformat_minor": 5
}
